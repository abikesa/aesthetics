{
 "cells": [
  {
   "cell_type": "markdown",
   "metadata": {},
   "source": [
    "(aim1-main)=\n",
    "# Aim 1\n",
    "\n",
    "## Biology\n",
    "- **$f(t)$**\n",
    "  - Incompletely observed processes.\n",
    "    - Exclude fantasy $\\gt3\\sigma$ `shock-value` events.\n",
    "    - Only include events observable by the entire human race.\n",
    "    - Private hallucinations, like Hamlet's ghost, are included.\n",
    "      - Provided they have no agency.\n",
    "      - They only influence the delusional individual's actions.\n",
    "  - Necessitates a nonparametric approach to $S(t)$.\n",
    "  - This approach avoids $1 - F(t)$.\n",
    "- **$S(t)$**\n",
    "  - $P(T>t)$, the survival function.\n",
    "- **$h(t)$**\n",
    "  - Encoding everything.\n",
    "  - $h(t)=\\lambda=\\frac{f(t)}{S(t)}$, the hazard function.\n",
    "\n",
    "## Collective\n",
    "- **$X$**\n",
    "  - Various patterns of `behavior known to man` since the beginning of time.\n",
    "  - These factors influence the `time-to-event` of processes.\n",
    "  - Agency is expressed by altering the values (alleles) of these factors (genetic loci).\n",
    "\n",
    "## Decisions\n",
    "- **$\\beta$**\n",
    "  - Represents all the parameters or `gene loci`.\n",
    "- **$SV'$**\n",
    "  - Think of these as `allelic variants`.\n",
    "  - Binary: algorithm, choices, decisions, `propensities`.\n",
    "  - These affect time-to-event and are decoded by the `scenario vector`.\n",
    "\n",
    "---\n",
    "\n",
    "### Application to \"Entourage\"\n",
    "- The show \"Entourage\" can be viewed through this lens, with its recurring fantastical elements representing deviations from the general human experience, akin to events far outside the normal probability density function ($\\gt3\\sigma$ events).\n",
    "- These fantastical elements, while entertaining, do not reflect the collective human experience and thus distort the realistic portrayal of life, much like how high variance events ($\\gt3\\sigma$) are excluded from certain biological models.\n",
    "\n",
    "This approach provides a structured way to critique and analyze the narrative structure and frequency of fantastical events in \"Entourage,\" placing it within a broader context of human experience and survival analysis.\n",
    "\n",
    "```{references}\n",
    "```"
   ]
  }
 ],
 "metadata": {
  "kernelspec": {
   "display_name": "Python 3",
   "language": "python",
   "name": "python3"
  },
  "language_info": {
   "codemirror_mode": {
    "name": "ipython",
    "version": 3
   },
   "file_extension": ".py",
   "mimetype": "text/x-python",
   "name": "python",
   "nbconvert_exporter": "python",
   "pygments_lexer": "ipython3",
   "version": "3.12.4"
  },
  "widgets": {
   "application/vnd.jupyter.widget-state+json": {
    "state": {},
    "version_major": 2,
    "version_minor": 0
   }
  }
 },
 "nbformat": 4,
 "nbformat_minor": 4
}