{
 "cells": [
  {
   "cell_type": "markdown",
   "metadata": {},
   "source": [
    "(arc)=\n",
    "# Arc\n",
    "\n",
    "> *From the point of view of form, the type of all the arts is the art of the musician - Oscar Wilde* \n",
    "\n",
    "Missingness of one or all of the principle components of data, code, server, models, weights, and profiles is what is at stake (but perhaps migration represents redefining home?): \n",
    "   - $f(t)$ I\n",
    "   - $S(t)$ ii-V-I\n",
    "   - $h(t)$ iii, IV, vi, vii, alterations\n",
    "      - Δ7 \n",
    "      - m or min\n",
    "      - ° or dim\n",
    "      - ø or m7♭5, -5\n",
    "      - `+` or aug, ♯5 or +5\n",
    "      - sus\n",
    "      - ♭9, ♯9, ♯11, ♭13\n",
    "   - $(X'X)^T \\cdot X'Y$ tension & release (e.g. Aiim7/E (GΔ) - iim7♭5/E Em)\n",
    "   - $\\beta$ m7♭5 > 7♯9 > 7♭9 > °7 > 7, etc \n",
    "   - $SV'$ BWV 846 Prelude in C Major,  Op 28 Prelude No. 4\n",
    "\n",
    "While Tyler Perry's work captures the collective unconscious via tension (bad marriage) & release (church music), the characters he creates don't have individually compelling arcs that subsume many of the parameters of life\n",
    "\n",
    "This is equivalent to their $SV'$ being a vector of mostly $zeros$ and the barriers, challenges, diversions, sirens, misfortunes, obstacles, courses, \"chains\" within which Tyler Perry is supposed to \"dance\" aren't rich, leaving a basic ii-V-I redemption arch with perhaps one or two straightforward insersions of, say, iii and IV."
   ]
  },
  {
   "cell_type": "markdown",
   "metadata": {},
   "source": [
    " \n",
    "\n",
    "          1. f(t)\n",
    "                \\\n",
    "     2. S(t) -> 4. y:h'(t)=0;t(X'X)X'Y -> 5. b -> 6. SV'\n",
    "                /\n",
    "                3. h(t)\n",
    "\n",
    "\n",
    "### `ii`: Departure 1, 2, 3\n",
    "- Sensory acuity: vision, hearing, smell, balance, glucose\n",
    "- Memory & cognitive: integrity, decline, tests\n",
    "- Physical activty: sarcopenia, brisk, dynamometer\n",
    "\n",
    "### `V`: Struggle 4\n",
    "- Frailty: loneliness, isolation, usefulness\n",
    "\n",
    "### `I`: Return 5, 6\n",
    "- Independence: ADLs, IADL\n",
    "- Hard-outcomes: shuffling, reflexes, falls, hospitalization, organ-failure, death\n",
    "\n",
    "\n",
    "\n",
    "\n",
    "\n",
    "\n",
    "\n"
   ]
  }
 ],
 "metadata": {
  "kernelspec": {
   "display_name": "Python 3",
   "language": "python",
   "name": "python3"
  },
  "language_info": {
   "codemirror_mode": {
    "name": "ipython",
    "version": 3
   },
   "file_extension": ".py",
   "mimetype": "text/x-python",
   "name": "python",
   "nbconvert_exporter": "python",
   "pygments_lexer": "ipython3",
   "version": "3.12.4"
  },
  "widgets": {
   "application/vnd.jupyter.widget-state+json": {
    "state": {},
    "version_major": 2,
    "version_minor": 0
   }
  }
 },
 "nbformat": 4,
 "nbformat_minor": 4
}