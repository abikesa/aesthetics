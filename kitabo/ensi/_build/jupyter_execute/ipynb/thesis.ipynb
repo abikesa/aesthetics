{
 "cells": [
  {
   "cell_type": "markdown",
   "metadata": {},
   "source": [
    "(thesis)=\n",
    "# Missingness\n",
    "\n",
    "> *From the point of view of form, the type of all the arts is the art of the musician - Oscar Wilde* \n",
    "\n",
    "```{margin}\n",
    "\n",
    "\n",
    "\n",
    " - **My K08 & PhD**, like great music and stories, taps into universal themes, resonating with our deepest desires and anxieties\n",
    "       \n",
    " - **One such theme** is that of {ref}`odysseus`: a departure to troy, a host of struggles on his way back, and his eventual return\n",
    "      \n",
    " - **And the other one** is captured in this {ref}`act3-deploy`. Taken from the musician perspective, our ii-V-i cadence is besetwithy `insertions`, obstacles, challenges. Missingness of one or all of the principle components of data, code, server, models, weights, and profiles is what is at stake: \n",
    "   - $f(t)$\n",
    "   - $S(t)$\n",
    "   - $h(t)$\n",
    "   - $(X'X)^T \\cdot X'Y$\n",
    "   - $\\beta$\n",
    "   - $SV'$ \n",
    "\n",
    "\n",
    "```\n",
    "\n",
    "          1. f(t)\n",
    "                \\\n",
    "     2. S(t) -> 4. y:h'(t)=0;t(X'X)X'Y -> 5. b -> 6. SV'\n",
    "                /\n",
    "                3. h(t)\n",
    "\n",
    "\n",
    "### `ii`: Departure 1, 2, 3\n",
    "- Sensory acuity: vision, hearing, smell, balance, glucose\n",
    "- Memory & cognitive: integrity, decline, tests\n",
    "- Physical activty: sarcopenia, brisk, dynamometer\n",
    "\n",
    "### `V`: Struggle 4\n",
    "- Frailty: loneliness, isolation, usefulness\n",
    "\n",
    "### `I`: Return 5, 6\n",
    "- Independence: ADLs, IADL\n",
    "- Hard-outcomes: shuffling, reflexes, falls, hospitalization, organ-failure, death\n",
    "\n",
    "```{margin}\n",
    "- [aim 1](https://abikesa.github.io/aim1/)\n",
    "- [aim](https://abikesa.github.io/aim2/) [2](https://abikesa.github.io/magicbullet/)\n",
    "- [aim](https://abikesa.github.io/aim3/) [3](https://abikesa.github.io/generalize/)\n",
    "```\n",
    "\n",
    "\n",
    "<Details>\n",
    "   <Summary>Dynamic</Summary>\n",
    "      <p>That approach is innovative and forward-thinking, and I think it will resonate well with your committee. Emphasizing the iterative nature of your work aligns well with the dynamic nature of clinical research and technology development. By showing how quickly you can adapt and improve based on new data and feedback, you're not only demonstrating your technical skills but also your strategic vision for continuous improvement and collaboration. This could be a great model for future research projects and could indeed set a new standard for doctoral theses in your field. Have you considered including a section in your thesis discussing this iterative approach and how it can benefit future research and applications?\n",
    "      </p>\n",
    "</Details>\n",
    "\n",
    "<Details>\n",
    "   <Summary>Chains</Summary>\n",
    "\n",
    "   Dancing in Chains.—In the case of every Greek artist, poet, or writer we must ask: What is the new constraint which he imposes upon himself and makes attractive to his contemporaries, so as to find imitators? For the thing called “invention” (in metre, for example) is always a self-imposed fetter of this kind. “Dancing in chains”—to make that hard for themselves and then to spread a false notion that it is easy—that is the trick that they wish to show us. Even in Homer we may perceive a wealth of inherited formulæ and laws of epic narration, within the circle of which he had to dance, and he himself created new conventions for them that came after. This was the discipline of the Greek poets: first to impose upon themselves a manifold constraint by means of the earlier poets; then to invent in addition a new constraint, to impose it upon themselves and cheerfully to overcome it, so that constraint and victory are perceived and admired.{cite}`nietzsche1913aphorism140`\n",
    "   \n",
    "   Without these tensions, constraints, insertions, and struggles the unfortunate likelihood of premature ii-V-I `home-coming` increases exponentially. It's on these grounds that one understands the beauty in Shakespeare's Hamlet, Chopin's Op. 28 Prelude No. 4 {cite}`wikipedia_prelude_op_28_no_4`, Joe's All The Things,{cite}`joe_all_the_things_1996` and MattAffleck's Good Will Hunting {cite}`GoodWillHuntingPainting2016` {cite}`GoodWillHuntingSceneReaction2024`\n",
    "\n",
    "   The Good Will Hunting scene in which Matt Damon's character meets Robin William's character is prophetic in a very strange way: It is a fictional scene in a movie, with critical take on an office painting apparently by the movies director in real life, of a clinical psychologist who's boat is about to capsize (Robin William's),{cite}`Nietzsche1881` Damon's character accruately diagnoses as much by declaring: \"I think you're about one step away from cuttin' your fuckin' ear off.\" Robin William's committed suicide by belt-strangulation in real life.\n",
    "\n",
    "</Details>"
   ]
  }
 ],
 "metadata": {
  "kernelspec": {
   "display_name": "Python 3",
   "language": "python",
   "name": "python3"
  },
  "language_info": {
   "codemirror_mode": {
    "name": "ipython",
    "version": 3
   },
   "file_extension": ".py",
   "mimetype": "text/x-python",
   "name": "python",
   "nbconvert_exporter": "python",
   "pygments_lexer": "ipython3",
   "version": "3.12.4"
  },
  "widgets": {
   "application/vnd.jupyter.widget-state+json": {
    "state": {},
    "version_major": 2,
    "version_minor": 0
   }
  }
 },
 "nbformat": 4,
 "nbformat_minor": 4
}