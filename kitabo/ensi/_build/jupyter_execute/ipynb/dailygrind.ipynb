{
 "cells": [
  {
   "cell_type": "markdown",
   "metadata": {},
   "source": [
    "(dailygrind)=\n",
    "# Grind\n",
    "\n",
    "<iframe src=\"https://grants.nih.gov/grants/guide/notice-files/NOT-AG-24-024.html?utm_source=NIA+Main&utm_campaign=c28c630771-foas-june2024&utm_medium=email&utm_term=0_-50a5bfc2ad-%5BLIST_EMAIL_ID%5D\" style=\"width: 100%; height: 100px\"></iframe>\n",
    "\n",
    "### Wild 1, 2, 3\n",
    "- God-made\n",
    "- Barely dodge 'em\n",
    "- Hazards surround us every step we take in our lives\n",
    "\n",
    "### Tame 4\n",
    "- Man-made; categorical imperative\n",
    "\n",
    "### Divine 5, 6\n",
    "- AI-made\n",
    "- Tailored to end-user\n",
    "\n",
    "\n"
   ]
  }
 ],
 "metadata": {
  "kernelspec": {
   "display_name": "Python 3",
   "language": "python",
   "name": "python3"
  },
  "language_info": {
   "codemirror_mode": {
    "name": "ipython",
    "version": 3
   },
   "file_extension": ".py",
   "mimetype": "text/x-python",
   "name": "python",
   "nbconvert_exporter": "python",
   "pygments_lexer": "ipython3",
   "version": "3.12.4"
  },
  "widgets": {
   "application/vnd.jupyter.widget-state+json": {
    "state": {},
    "version_major": 2,
    "version_minor": 0
   }
  }
 },
 "nbformat": 4,
 "nbformat_minor": 4
}