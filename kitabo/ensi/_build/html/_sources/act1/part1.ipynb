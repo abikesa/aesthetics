{
 "cells": [
  {
   "cell_type": "markdown",
   "metadata": {},
   "source": [
    "(aim1-main)=\n",
    "# Aim 1\n",
    "\n",
    "## Biology\n",
    "- **$f(t)$**\n",
    "  - Incompletely observed processes.\n",
    "    - Exclude fantasy $\\gt3\\sigma$ `shock-value` events.\n",
    "    - Only include events observable by the entire human race.\n",
    "    - Private hallucinations, like Hamlet's ghost, are included.\n",
    "      - Provided they have no agency.\n",
    "      - They only influence the delusional individual's actions.\n",
    "  - Necessitates a nonparametric approach to $S(t)$.\n",
    "  - This approach avoids $1 - F(t)$.\n",
    "- **$S(t)$**\n",
    "  - $P(T>t)$, the survival function.\n",
    "- **$h(t)$**\n",
    "  - Encoding everything.\n",
    "  - $h(t)=\\lambda=\\frac{f(t)}{S(t)}$, the hazard function.\n",
    "\n",
    "## Collective\n",
    "- **$X$**\n",
    "  - Various patterns of `behavior known to man` since the beginning of time.\n",
    "  - These factors influence the `time-to-event` of processes.\n",
    "  - Agency is expressed by altering the values (alleles) of these factors (genetic loci).\n",
    "\n",
    "## Decisions\n",
    "- **$\\beta$**\n",
    "  - Represents all the parameters or `gene loci`.\n",
    "- **$SV'$**\n",
    "  - Think of these as `allelic variants`.\n",
    "  - Binary: algorithm, choices, decisions, `propensities`.\n",
    "  - These affect time-to-event and are decoded by the `scenario vector`.\n",
    "\n",
    "---\n",
    "\n",
    "### Application to \"Entourage\"\n",
    "- The show \"Entourage\" can be viewed through this lens, with its recurring fantastical elements representing deviations from the general human experience, akin to events far outside the normal probability density function ($\\gt3\\sigma$ events).\n",
    "- These fantastical elements, while entertaining, do not reflect the collective human experience and thus distort the realistic portrayal of life, much like how high variance events ($\\gt3\\sigma$) are excluded from certain biological models.\n",
    "\n",
    "This approach provides a structured way to critique and analyze the narrative structure and frequency of fantastical events in \"Entourage,\" placing it within a broader context of human experience and survival analysis.\n",
    "\n",
    "### Claude 3.5 Sonnet\n",
    "\n",
    "                         1. f(t)\n",
    "                               \\\n",
    "                    2. S(t) -> 4. X -> 5. b -> SV'\n",
    "                               /\n",
    "                               3. h(t)\n",
    "\n",
    "Thank you for providing this detailed description. I'd be happy to help explain and visualize these concepts using words. Let's break this down step by step:\n",
    "\n",
    "1. $f(t)$ - Probability Density Function:\n",
    "This function represents the likelihood of an event (like love overcoming duty) occurring at any given time. Imagine a smooth curve that shows how probable the event is at different points in time.\n",
    "\n",
    "2. $S(t)$ - Survival Function:\n",
    "Picture this as a downward sloping curve starting at 1 and eventually reaching 0. It shows the probability of \"surviving\" (not experiencing the event) up to time t.\n",
    "\n",
    "3. $h(t)$ - Hazard Function:\n",
    "Envision a landscape with mountains and valleys. The function's shape represents the varying risk or likelihood of the event occurring over time. \n",
    "\n",
    "4. $\\tilde{X}$ - Design Matrix (The Collective):\n",
    "Think of this as a large table, where each row represents an individual or story, and each column represents a characteristic virtue, vice, or factor. $h'(t) = 0$ are the critical points: these are the peaks and troughs in `the landscape of the eternally recurring in life`, representing times when events are most likely to occur. \n",
    "\n",
    "5. $\\beta$ Coefficient Vector: $(X'X)^T \\cdot X'Y$ - The Solution: This mathematical operation can be visualized as `distilling the essence` of all these stories and characteristics into a concentrated form. Imagine this as a key or legend that helps interpret the distilled information, much like how `archetypal` figures in stories help us understand complex concepts.\n",
    "\n",
    "6. $SV'$ - Scenario Vector: Picture this as a single row extracted from the larger table (X), representing an individual's specific characteristics. $SV' \\cdot \\beta$ or $X' \\cdot \\beta$ are the predictions for individual and collective. The palm-reader, fortune teller, and predictive model are in this zone :)\n",
    "\n",
    "This conceptualization blends statistical concepts with narrative and archetypal ideas, creating a framework for understanding how individual stories relate to collective patterns and predictions.\n",
    "\n"
   ]
  }
 ],
 "metadata": {
  "kernelspec": {
   "display_name": "Python 3",
   "language": "python",
   "name": "python3"
  },
  "language_info": {
   "codemirror_mode": {
    "name": "ipython",
    "version": 3
   },
   "file_extension": ".py",
   "mimetype": "text/x-python",
   "name": "python",
   "nbconvert_exporter": "python",
   "pygments_lexer": "ipython3",
   "version": "3.12.4"
  },
  "widgets": {
   "application/vnd.jupyter.widget-state+json": {
    "state": {},
    "version_major": 2,
    "version_minor": 0
   }
  }
 },
 "nbformat": 4,
 "nbformat_minor": 4
}
