{
 "cells": [
  {
   "cell_type": "markdown",
   "metadata": {},
   "source": [
    "(lse)=\n",
    "# Nice!\n",
    "\n",
    "### Life 1, 2, 3\n",
    "- God-made\n",
    "- Barely dodge 'em\n",
    "- Hazards surround us every step we take in our lives\n",
    "\n",
    "### Society 4\n",
    "- Man-made; categorical imperative\n",
    "\n",
    "### Existential 5, 6\n",
    "- AI-made; dynamically improving efficiency\n",
    "- Tailored to end-user & adapting even to the one user over time\n",
    "\n",
    "\n"
   ]
  }
 ],
 "metadata": {
  "kernelspec": {
   "display_name": "Python 3",
   "language": "python",
   "name": "python3"
  },
  "language_info": {
   "codemirror_mode": {
    "name": "ipython",
    "version": 3
   },
   "file_extension": ".py",
   "mimetype": "text/x-python",
   "name": "python",
   "nbconvert_exporter": "python",
   "pygments_lexer": "ipython3",
   "version": "3.12.4"
  },
  "widgets": {
   "application/vnd.jupyter.widget-state+json": {
    "state": {},
    "version_major": 2,
    "version_minor": 0
   }
  }
 },
 "nbformat": 4,
 "nbformat_minor": 4
}
